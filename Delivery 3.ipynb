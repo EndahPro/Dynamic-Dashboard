{
 "cells": [
  {
   "cell_type": "markdown",
   "id": "4fcc1180",
   "metadata": {},
   "source": [
    "# Filter and Doubling Rate Calculation"
   ]
  },
  {
   "cell_type": "code",
   "execution_count": 1,
   "id": "33e2cc74",
   "metadata": {},
   "outputs": [],
   "source": [
    "import pandas as pd\n",
    "import numpy as np\n",
    "\n",
    "import warnings\n",
    "warnings.filterwarnings(\"ignore\")"
   ]
  },
  {
   "cell_type": "code",
   "execution_count": 2,
   "id": "6acd678f",
   "metadata": {
    "scrolled": false
   },
   "outputs": [],
   "source": [
    "pd_raw = pd.read_csv(r'C:\\Users\\pc\\Desktop\\time_series_covid19_confirmed_global.csv')\n",
    "confirmed = pd.DataFrame({'date' : pd_raw.columns[4:]})\n",
    "confirmed['date'] = confirmed.date.astype('datetime64[ns]')\n",
    "\n",
    "country_list = pd_raw['Country/Region'].drop_duplicates().tolist()\n",
    "\n",
    "for each in country_list:\n",
    "    confirmed[each] = np.array(np.array(pd_raw[pd_raw['Country/Region'] == each].iloc[:,4::].sum(axis = 0)))\n",
    "\n",
    "confirmed.to_csv(r'C:\\Users\\pc\\Desktop\\confirmed.csv', sep = ';', index = False)"
   ]
  },
  {
   "cell_type": "code",
   "execution_count": 3,
   "id": "9f81283b",
   "metadata": {},
   "outputs": [],
   "source": [
    "from scipy import signal\n",
    "\n",
    "def savgol_filter(dataframe, window):\n",
    "    return signal.savgol_filter(np.array(dataframe), window, 1)\n",
    "\n",
    "from sklearn import linear_model\n",
    "reg = linear_model.LinearRegression(fit_intercept = True)\n",
    "\n",
    "def get_doubling_time_via_regression(array):\n",
    "    reg.fit(np.arange(-1,2).reshape(-1, 1),np.array(array))\n",
    "    return reg.intercept_/reg.coef_\n",
    "\n",
    "def rolling_reg(dataframe):\n",
    "    return dataframe.rolling(3, 3).apply(get_doubling_time_via_regression)"
   ]
  },
  {
   "cell_type": "code",
   "execution_count": 4,
   "id": "8ede42e5",
   "metadata": {},
   "outputs": [],
   "source": [
    "confirmed_filtered = confirmed.loc[:, confirmed.columns != 'date']\n",
    "for each in country_list:\n",
    "    confirmed_filtered[each] = pd.DataFrame(savgol_filter(confirmed_filtered[each], 5))\n",
    "confirmed_filtered.columns = country_list\n",
    "confirmed_filtered.insert(0, 'date', confirmed.iloc[: , :1].values)\n",
    "\n",
    "confirmed_filtered.to_csv(r'C:\\Users\\pc\\Desktop\\confirmed_filtered.csv', sep = ';', index = False)"
   ]
  },
  {
   "cell_type": "code",
   "execution_count": 5,
   "id": "14ecc885",
   "metadata": {},
   "outputs": [],
   "source": [
    "confirmed_DR = pd.DataFrame(rolling_reg(confirmed.loc[:, confirmed.columns != 'date']))\n",
    "confirmed_DR.replace([np.inf, -np.inf], np.nan, inplace = True)\n",
    "confirmed_DR.insert(0, 'date', confirmed.iloc[: , :1].values)\n",
    "\n",
    "confirmed_DR.to_csv(r'C:\\Users\\pc\\Desktop\\confirmed_DR.csv', sep = ';', index = False)"
   ]
  },
  {
   "cell_type": "code",
   "execution_count": 6,
   "id": "bf57869e",
   "metadata": {},
   "outputs": [],
   "source": [
    "mask = confirmed[country_list] > 100\n",
    "confirmed_filtered_DR = pd.DataFrame(rolling_reg(confirmed_filtered.loc[:, confirmed_filtered.columns != 'date']))\n",
    "confirmed_filtered_DR.insert(0, 'date', confirmed.iloc[: , :1].values)\n",
    "confirmed_filtered_DR.replace([np.inf, -np.inf], np.nan, inplace = True)\n",
    "confirmed_filtered_DR[country_list] = confirmed_filtered_DR[country_list].where(mask)\n",
    "\n",
    "confirmed_filtered_DR.to_csv(r'C:\\Users\\pc\\Desktop\\confirmed_filtered_DR.csv', sep = ';', index = False)"
   ]
  },
  {
   "cell_type": "markdown",
   "id": "6984947b",
   "metadata": {},
   "source": [
    "# Visualization"
   ]
  },
  {
   "cell_type": "code",
   "execution_count": 7,
   "id": "1dfec5cb",
   "metadata": {},
   "outputs": [],
   "source": [
    "import plotly\n",
    "import plotly.graph_objects as go"
   ]
  },
  {
   "cell_type": "code",
   "execution_count": 8,
   "id": "a44e48b3",
   "metadata": {},
   "outputs": [],
   "source": [
    "data = pd.DataFrame()\n",
    "\n",
    "confirmed = pd.read_csv(r'C:\\Users\\pc\\Desktop\\confirmed.csv', sep = ';')\n",
    "confirmed_filtered = pd.read_csv(r'C:\\Users\\pc\\Desktop\\confirmed_filtered.csv', sep = ';')\n",
    "confirmed_DR = pd.read_csv(r'C:\\Users\\pc\\Desktop\\confirmed_DR.csv', sep = ';')\n",
    "confirmed_filtered_DR = pd.read_csv(r'C:\\Users\\pc\\Desktop\\confirmed_filtered_DR.csv', sep = ';')"
   ]
  },
  {
   "cell_type": "code",
   "execution_count": 9,
   "id": "139cf1a9",
   "metadata": {},
   "outputs": [],
   "source": [
    "import dash\n",
    "import dash_core_components as dcc\n",
    "import dash_html_components as html\n",
    "\n",
    "app = dash.Dash()\n",
    "fig = go.Figure()\n",
    "\n",
    "font_style = {'font-family': 'Friz Quadrata Std','font-size': 14}\n",
    "\n",
    "country_options = []\n",
    "for each in country_list:\n",
    "    country_options.append({'label': each, 'value': each})    \n",
    "\n",
    "app.layout = html.Div([\n",
    "\n",
    "    dcc.Markdown('''\n",
    "    ## Multi-Select Country for visualization\n",
    "    ''', style = font_style),\n",
    "    \n",
    "    dcc.Dropdown(\n",
    "        id = 'country_drop_down',\n",
    "        options = country_options,\n",
    "        #value = ['US', 'Germany', 'Italy'],\n",
    "        value = ['Norway', 'Austria', 'Italy'],\n",
    "        multi = True,\n",
    "        style = font_style\n",
    "    ),\n",
    "       \n",
    "    dcc.Markdown('''\n",
    "    ## Select Timeline of confirmed COVID-19 cases or the approximated doubling time\n",
    "        ''', style = font_style),\n",
    "    \n",
    "    dcc.Dropdown(\n",
    "        id = 'doubling_time',\n",
    "        options = [\n",
    "            {'label': 'Timeline Confirmed', 'value': 'confirmed'},\n",
    "            {'label': 'Timeline Confirmed Filtered', 'value': 'confirmed_filtered'},\n",
    "            {'label': 'Timeline Doubling Rate', 'value': 'confirmed_DR'},\n",
    "            {'label': 'Timeline Doubling Rate Filtered', 'value': 'confirmed_filtered_DR'},\n",
    "                ],\n",
    "        value = 'confirmed',\n",
    "        multi = False,\n",
    "        style = font_style\n",
    "    ),\n",
    "    \n",
    "    dcc.RadioItems(\n",
    "       id = 'scale_option',\n",
    "       options = [\n",
    "           {'label': 'Logarthmic Scale', 'value': 'logarthmic scale'},\n",
    "           {'label': 'Linear Scale', 'value': 'linear scale'},\n",
    "               ],\n",
    "        value = 'logarthmic scale',\n",
    "        style = font_style\n",
    "    ),\n",
    "    \n",
    "    dcc.Graph(figure = fig, id = 'main_window_slope')\n",
    "])"
   ]
  },
  {
   "cell_type": "code",
   "execution_count": 10,
   "id": "5635c4f4",
   "metadata": {},
   "outputs": [],
   "source": [
    "from dash.dependencies import Input, Output\n",
    "\n",
    "@app.callback(\n",
    "    Output('main_window_slope', 'figure'),\n",
    "    [Input('country_drop_down', 'value'),\n",
    "    Input('doubling_time', 'value'),\n",
    "    Input('scale_option', 'value')])\n",
    "def update_figure(country_list, show_doubling, choose_scale):\n",
    "    traces = []\n",
    "\n",
    "    if show_doubling == 'confirmed':\n",
    "        data = confirmed\n",
    "    if show_doubling == 'confirmed_filtered':\n",
    "        data = confirmed_filtered\n",
    "    if show_doubling == 'confirmed_DR':\n",
    "        data = confirmed_DR\n",
    "    if show_doubling == 'confirmed_filtered_DR':\n",
    "        data = confirmed_filtered_DR\n",
    "        \n",
    "    \n",
    "    for each in country_list:\n",
    "        traces.append(dict(x = data.date,\n",
    "                                y = data[each],\n",
    "                                mode = 'markers+lines',\n",
    "                                line_width = 1,\n",
    "                                marker_size = 1, \n",
    "                                name = each\n",
    "                          )\n",
    "                     )\n",
    "        \n",
    "    return {\n",
    "            'data': traces,\n",
    "            'layout': dict (\n",
    "                width = 1366,\n",
    "                height = 500,\n",
    "                xaxis = {'title':'Time', 'tickangle':-45, 'nticks':20},\n",
    "                yaxis = {'title': 'Approximated doubling rate over 3 days'if 'DR' in show_doubling\n",
    "                         else 'Confirmed infected people (' + choose_scale + ')',\n",
    "                         'type': 'log' if choose_scale == 'logarthmic scale' else 'linear'},\n",
    "                font = dict(family = font_style['font-family'], size = font_style['font-size'])\n",
    "            )\n",
    "    }"
   ]
  },
  {
   "cell_type": "code",
   "execution_count": null,
   "id": "10be09d9",
   "metadata": {},
   "outputs": [
    {
     "name": "stdout",
     "output_type": "stream",
     "text": [
      "Dash is running on http://127.0.0.1:8050/\n",
      "\n",
      " * Serving Flask app \"__main__\" (lazy loading)\n",
      " * Environment: production\n",
      "\u001b[31m   WARNING: This is a development server. Do not use it in a production deployment.\u001b[0m\n",
      "\u001b[2m   Use a production WSGI server instead.\u001b[0m\n",
      " * Debug mode: on\n"
     ]
    }
   ],
   "source": [
    "app.run_server(debug = True, use_reloader = False)"
   ]
  }
 ],
 "metadata": {
  "kernelspec": {
   "display_name": "Python 3 (ipykernel)",
   "language": "python",
   "name": "python3"
  },
  "language_info": {
   "codemirror_mode": {
    "name": "ipython",
    "version": 3
   },
   "file_extension": ".py",
   "mimetype": "text/x-python",
   "name": "python",
   "nbconvert_exporter": "python",
   "pygments_lexer": "ipython3",
   "version": "3.9.12"
  }
 },
 "nbformat": 4,
 "nbformat_minor": 5
}
